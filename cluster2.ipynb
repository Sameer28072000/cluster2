{
 "cells": [
  {
   "cell_type": "markdown",
   "id": "af2f6daa-cfad-4c88-9ba6-4b55fdc3e2c5",
   "metadata": {},
   "source": [
    "Q1. What is hierarchical clustering, and how is it different from other clustering techniques?"
   ]
  },
  {
   "cell_type": "code",
   "execution_count": null,
   "id": "37f910fc-5316-4526-b48e-0ab71c52e960",
   "metadata": {},
   "outputs": [],
   "source": [
    "Ans:-This is also type of clustering.\n",
    "      In hierarchical clustering there is no centroid but cluster is there.\n",
    "      K-means---->centroid & cluster\n",
    "        hierarchical clustering------>only cluster."
   ]
  },
  {
   "cell_type": "markdown",
   "id": "4dc65be8-823e-4f0f-bcbe-511efc8ffe6f",
   "metadata": {},
   "source": [
    "Q2. What are the two main types of hierarchical clustering algorithms? Describe each in brief."
   ]
  },
  {
   "cell_type": "code",
   "execution_count": null,
   "id": "0a8d0acf-9466-43d9-8d25-ab137eec9797",
   "metadata": {},
   "outputs": [],
   "source": [
    "Ans:-There are the two main types of hierarchical clustering algorithms\n",
    "      i.Agglomerative\n",
    "       ii.Divisive.\n",
    "        \n",
    "        \n",
    "    Steps of Agglomerative:-\n",
    "      i.for each point initially we will consider as a seperate cluster\n",
    "        ii.find a nearest point create a new cluster\n",
    "          iii.keep on doing the same process[step2] untill we get a single cluster\n",
    "            \n",
    "    Steps of Divisive:-\n",
    "      i.keep on doing the same process[step2] untill we get a single cluster\n",
    "        ii.find a nearest point create a new cluster\n",
    "          iii.for each point initially we will consider as a seperate cluster"
   ]
  },
  {
   "cell_type": "markdown",
   "id": "279e1ef4-38a1-432e-bfc8-e76e2aacc701",
   "metadata": {},
   "source": [
    "Q3. How do you determine the distance between two clusters in hierarchical clustering, and what are the\n",
    "common distance metrics used?"
   ]
  },
  {
   "cell_type": "code",
   "execution_count": null,
   "id": "0dcb36c4-e796-4f57-8bbf-5ee2e870a71d",
   "metadata": {},
   "outputs": [],
   "source": [
    "Ans:-In hierarichal clustering basically we are using euclidean distance."
   ]
  },
  {
   "cell_type": "markdown",
   "id": "13a2e1b7-d031-4400-b2f0-02d23faa3858",
   "metadata": {},
   "source": [
    "Q4. How do you determine the optimal number of clusters in hierarchical clustering, and what are some\n",
    "common methods used for this purpose?"
   ]
  },
  {
   "cell_type": "code",
   "execution_count": null,
   "id": "b71fa714-3aa8-43f8-af31-80673f3935aa",
   "metadata": {},
   "outputs": [],
   "source": [
    "Ans:-The optimal number of clusters in hierarchical clustering\n",
    "       i.Dendogram\n",
    "         ii.Agglomerative coefficient\n",
    "           iii.Domain understanding"
   ]
  },
  {
   "cell_type": "markdown",
   "id": "724d613c-0e25-48c0-a227-cfd80932882e",
   "metadata": {},
   "source": [
    "Q5. What are dendrograms in hierarchical clustering, and how are they useful in analyzing the results?"
   ]
  },
  {
   "cell_type": "code",
   "execution_count": null,
   "id": "1fad8da9-a461-4697-863f-445d393dd19a",
   "metadata": {},
   "outputs": [],
   "source": [
    "Ans:-Dendrograms in hierarchical clustering visual reprensentation of the clustering process.\n",
    "      i.visualize cluster \n",
    "       ii.identification of natural cluster\n",
    "         iii.Detemine optimal no. of cluster\n",
    "            iv.comparison of different cluster"
   ]
  },
  {
   "cell_type": "markdown",
   "id": "5082c1f5-8796-45bd-93e6-4c467981204c",
   "metadata": {},
   "source": [
    "Q6. Can hierarchical clustering be used for both numerical and categorical data? If yes, how are the\n",
    "distance metrics different for each type of data?"
   ]
  },
  {
   "cell_type": "code",
   "execution_count": null,
   "id": "d45306bf-a26f-44e1-9e96-c7cbe2468ad6",
   "metadata": {},
   "outputs": [],
   "source": [
    "Ans:-Yes, hierarchical clustering can be used for both numerical and categorical data.\n",
    "       i.euclidean distance\n",
    "        ii.manhatten distance"
   ]
  },
  {
   "cell_type": "markdown",
   "id": "347bf0b6-e1a9-4348-a179-feeeaebb86b7",
   "metadata": {},
   "source": [
    "Q7. How can you use hierarchical clustering to identify outliers or anomalies in your data?"
   ]
  },
  {
   "cell_type": "code",
   "execution_count": null,
   "id": "6083470c-4ab8-4c7a-97fc-bb62f46c71db",
   "metadata": {},
   "outputs": [],
   "source": [
    "Ans:-We use hierarchical clustering to identify outliers or anomalies in your data\n",
    "      i.perform heirarical clustering\n",
    "       ii.set a threshold\n",
    "         iii.identify outlier"
   ]
  }
 ],
 "metadata": {
  "kernelspec": {
   "display_name": "Python 3 (ipykernel)",
   "language": "python",
   "name": "python3"
  },
  "language_info": {
   "codemirror_mode": {
    "name": "ipython",
    "version": 3
   },
   "file_extension": ".py",
   "mimetype": "text/x-python",
   "name": "python",
   "nbconvert_exporter": "python",
   "pygments_lexer": "ipython3",
   "version": "3.10.8"
  }
 },
 "nbformat": 4,
 "nbformat_minor": 5
}
